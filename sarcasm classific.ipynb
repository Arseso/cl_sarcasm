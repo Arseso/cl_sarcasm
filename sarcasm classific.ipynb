{
 "cells": [
  {
   "cell_type": "code",
   "execution_count": 1,
   "id": "initial_id",
   "metadata": {
    "collapsed": true,
    "ExecuteTime": {
     "end_time": "2024-03-05T20:13:24.188172Z",
     "start_time": "2024-03-05T20:13:22.667261Z"
    }
   },
   "outputs": [
    {
     "name": "stderr",
     "output_type": "stream",
     "text": [
      "2024-03-05 23:13:23.080449: E external/local_xla/xla/stream_executor/cuda/cuda_dnn.cc:9261] Unable to register cuDNN factory: Attempting to register factory for plugin cuDNN when one has already been registered\n",
      "2024-03-05 23:13:23.080483: E external/local_xla/xla/stream_executor/cuda/cuda_fft.cc:607] Unable to register cuFFT factory: Attempting to register factory for plugin cuFFT when one has already been registered\n",
      "2024-03-05 23:13:23.081249: E external/local_xla/xla/stream_executor/cuda/cuda_blas.cc:1515] Unable to register cuBLAS factory: Attempting to register factory for plugin cuBLAS when one has already been registered\n",
      "2024-03-05 23:13:23.086040: I tensorflow/core/platform/cpu_feature_guard.cc:182] This TensorFlow binary is optimized to use available CPU instructions in performance-critical operations.\n",
      "To enable the following instructions: AVX2 FMA, in other operations, rebuild TensorFlow with the appropriate compiler flags.\n",
      "2024-03-05 23:13:23.724807: W tensorflow/compiler/tf2tensorrt/utils/py_utils.cc:38] TF-TRT Warning: Could not find TensorRT\n"
     ]
    }
   ],
   "source": [
    "import pandas as pd\n",
    "from tensorflow.keras.preprocessing.text import Tokenizer\n",
    "from tensorflow.keras.preprocessing.sequence import pad_sequences\n",
    "from tensorflow import keras as k"
   ]
  },
  {
   "cell_type": "code",
   "outputs": [
    {
     "data": {
      "text/plain": "                                        article_link  \\\n0  https://www.huffingtonpost.com/entry/versace-b...   \n1  https://www.huffingtonpost.com/entry/roseanne-...   \n2  https://local.theonion.com/mom-starting-to-fea...   \n3  https://politics.theonion.com/boehner-just-wan...   \n4  https://www.huffingtonpost.com/entry/jk-rowlin...   \n\n                                            headline  is_sarcastic  \n0  former versace store clerk sues over secret 'b...             0  \n1  the 'roseanne' revival catches up to our thorn...             0  \n2  mom starting to fear son's web series closest ...             1  \n3  boehner just wants wife to listen, not come up...             1  \n4  j.k. rowling wishes snape happy birthday in th...             0  ",
      "text/html": "<div>\n<style scoped>\n    .dataframe tbody tr th:only-of-type {\n        vertical-align: middle;\n    }\n\n    .dataframe tbody tr th {\n        vertical-align: top;\n    }\n\n    .dataframe thead th {\n        text-align: right;\n    }\n</style>\n<table border=\"1\" class=\"dataframe\">\n  <thead>\n    <tr style=\"text-align: right;\">\n      <th></th>\n      <th>article_link</th>\n      <th>headline</th>\n      <th>is_sarcastic</th>\n    </tr>\n  </thead>\n  <tbody>\n    <tr>\n      <th>0</th>\n      <td>https://www.huffingtonpost.com/entry/versace-b...</td>\n      <td>former versace store clerk sues over secret 'b...</td>\n      <td>0</td>\n    </tr>\n    <tr>\n      <th>1</th>\n      <td>https://www.huffingtonpost.com/entry/roseanne-...</td>\n      <td>the 'roseanne' revival catches up to our thorn...</td>\n      <td>0</td>\n    </tr>\n    <tr>\n      <th>2</th>\n      <td>https://local.theonion.com/mom-starting-to-fea...</td>\n      <td>mom starting to fear son's web series closest ...</td>\n      <td>1</td>\n    </tr>\n    <tr>\n      <th>3</th>\n      <td>https://politics.theonion.com/boehner-just-wan...</td>\n      <td>boehner just wants wife to listen, not come up...</td>\n      <td>1</td>\n    </tr>\n    <tr>\n      <th>4</th>\n      <td>https://www.huffingtonpost.com/entry/jk-rowlin...</td>\n      <td>j.k. rowling wishes snape happy birthday in th...</td>\n      <td>0</td>\n    </tr>\n  </tbody>\n</table>\n</div>"
     },
     "execution_count": 2,
     "metadata": {},
     "output_type": "execute_result"
    }
   ],
   "source": [
    "data = pd.read_json(\"data/sarcasm.json\", lines=True)\n",
    "data.head()"
   ],
   "metadata": {
    "collapsed": false,
    "ExecuteTime": {
     "end_time": "2024-03-05T20:13:25.247952Z",
     "start_time": "2024-03-05T20:13:25.096788Z"
    }
   },
   "id": "dbdc87a587e58263",
   "execution_count": 2
  },
  {
   "cell_type": "code",
   "outputs": [
    {
     "data": {
      "text/plain": "                                        article_link  \\\n0  https://www.huffingtonpost.com/entry/versace-b...   \n1  https://www.huffingtonpost.com/entry/roseanne-...   \n2  https://local.theonion.com/mom-starting-to-fea...   \n3  https://politics.theonion.com/boehner-just-wan...   \n4  https://www.huffingtonpost.com/entry/jk-rowlin...   \n\n                                            headline  is_sarcastic  \n0  former versace store clerk sues over secret 'b...             0  \n1  the 'roseanne' revival catches up to our thorn...             0  \n2  mom starting to fear son's web series closest ...             1  \n3  boehner just wants wife to listen, not come up...             1  \n4  j.k. rowling wishes snape happy birthday in th...             0  ",
      "text/html": "<div>\n<style scoped>\n    .dataframe tbody tr th:only-of-type {\n        vertical-align: middle;\n    }\n\n    .dataframe tbody tr th {\n        vertical-align: top;\n    }\n\n    .dataframe thead th {\n        text-align: right;\n    }\n</style>\n<table border=\"1\" class=\"dataframe\">\n  <thead>\n    <tr style=\"text-align: right;\">\n      <th></th>\n      <th>article_link</th>\n      <th>headline</th>\n      <th>is_sarcastic</th>\n    </tr>\n  </thead>\n  <tbody>\n    <tr>\n      <th>0</th>\n      <td>https://www.huffingtonpost.com/entry/versace-b...</td>\n      <td>former versace store clerk sues over secret 'b...</td>\n      <td>0</td>\n    </tr>\n    <tr>\n      <th>1</th>\n      <td>https://www.huffingtonpost.com/entry/roseanne-...</td>\n      <td>the 'roseanne' revival catches up to our thorn...</td>\n      <td>0</td>\n    </tr>\n    <tr>\n      <th>2</th>\n      <td>https://local.theonion.com/mom-starting-to-fea...</td>\n      <td>mom starting to fear son's web series closest ...</td>\n      <td>1</td>\n    </tr>\n    <tr>\n      <th>3</th>\n      <td>https://politics.theonion.com/boehner-just-wan...</td>\n      <td>boehner just wants wife to listen, not come up...</td>\n      <td>1</td>\n    </tr>\n    <tr>\n      <th>4</th>\n      <td>https://www.huffingtonpost.com/entry/jk-rowlin...</td>\n      <td>j.k. rowling wishes snape happy birthday in th...</td>\n      <td>0</td>\n    </tr>\n  </tbody>\n</table>\n</div>"
     },
     "execution_count": 3,
     "metadata": {},
     "output_type": "execute_result"
    }
   ],
   "source": [
    "data.dropna(axis=0, how='any')\n",
    "data.head()"
   ],
   "metadata": {
    "collapsed": false,
    "ExecuteTime": {
     "end_time": "2024-03-05T20:13:26.223290Z",
     "start_time": "2024-03-05T20:13:26.213419Z"
    }
   },
   "id": "7c68d0b238b48b",
   "execution_count": 3
  },
  {
   "cell_type": "code",
   "outputs": [],
   "source": [
    "data_train = data.iloc[0:int(len(data)*0.8)]\n",
    "data_test = data.iloc[int(len(data)*0.8):]\n",
    "\n",
    "X_train = data_train['headline'].values\n",
    "Y_train = data_train['is_sarcastic'].values\n",
    "\n",
    "X_test = data_test['headline'].values\n",
    "Y_test = data_test['is_sarcastic'].values"
   ],
   "metadata": {
    "collapsed": false,
    "ExecuteTime": {
     "end_time": "2024-03-05T20:13:27.729007Z",
     "start_time": "2024-03-05T20:13:27.725094Z"
    }
   },
   "id": "aa3853545988798b",
   "execution_count": 4
  },
  {
   "cell_type": "code",
   "outputs": [],
   "source": [
    "tokenizer = Tokenizer(oov_token=\"<OOV>\")\n",
    "tokenizer.fit_on_texts(X_train)"
   ],
   "metadata": {
    "collapsed": false,
    "ExecuteTime": {
     "end_time": "2024-03-05T20:13:28.655919Z",
     "start_time": "2024-03-05T20:13:28.455608Z"
    }
   },
   "id": "ae1e591d781741df",
   "execution_count": 5
  },
  {
   "cell_type": "code",
   "outputs": [],
   "source": [
    "sequences_train = tokenizer.texts_to_sequences(X_train)\n",
    "sequences_test = tokenizer.texts_to_sequences(X_test)\n",
    "\n",
    "max_length = max(max([len(sequence) for sequence in sequences_train]), max([len(sequence) for sequence in sequences_test]))\n",
    "\n",
    "sequences_train = pad_sequences(sequences_train, maxlen=max_length, padding='post')\n",
    "sequences_test = pad_sequences(sequences_test, maxlen=max_length, padding='post')"
   ],
   "metadata": {
    "collapsed": false,
    "ExecuteTime": {
     "end_time": "2024-03-05T20:13:29.672128Z",
     "start_time": "2024-03-05T20:13:29.455552Z"
    }
   },
   "id": "b7c42b569dde5a",
   "execution_count": 6
  },
  {
   "cell_type": "code",
   "outputs": [],
   "source": [
    "model = k.Sequential([\n",
    "    k.layers.Embedding(input_length=max_length, input_dim= len(tokenizer.word_index), output_dim=100),\n",
    "    k.layers.GlobalMaxPool1D(),\n",
    "    k.layers.Dense(128, activation='relu'),\n",
    "    k.layers.Dense(1, activation='sigmoid')\n",
    "])\n",
    "\n",
    "model.compile(\n",
    "    optimizer='adam',\n",
    "    loss='binary_crossentropy',\n",
    "    metrics='accuracy'\n",
    ")"
   ],
   "metadata": {
    "collapsed": false,
    "ExecuteTime": {
     "end_time": "2024-03-05T20:17:53.129067Z",
     "start_time": "2024-03-05T20:17:53.080099Z"
    }
   },
   "id": "c11e76c94355773",
   "execution_count": 9
  },
  {
   "cell_type": "code",
   "outputs": [
    {
     "name": "stdout",
     "output_type": "stream",
     "text": [
      "Epoch 1/25\n",
      "43/43 [==============================] - 4s 74ms/step - loss: 0.6716 - accuracy: 0.5540 - val_loss: 0.6265 - val_accuracy: 0.6176\n",
      "Epoch 2/25\n",
      "43/43 [==============================] - 2s 54ms/step - loss: 0.4934 - accuracy: 0.8154 - val_loss: 0.4086 - val_accuracy: 0.8319\n",
      "Epoch 3/25\n",
      "43/43 [==============================] - 2s 46ms/step - loss: 0.2610 - accuracy: 0.9078 - val_loss: 0.3348 - val_accuracy: 0.8529\n",
      "Epoch 4/25\n",
      "43/43 [==============================] - 1s 30ms/step - loss: 0.1332 - accuracy: 0.9598 - val_loss: 0.3309 - val_accuracy: 0.8555\n",
      "Epoch 5/25\n",
      "43/43 [==============================] - 1s 33ms/step - loss: 0.0646 - accuracy: 0.9847 - val_loss: 0.3460 - val_accuracy: 0.8568\n",
      "Epoch 6/25\n",
      "43/43 [==============================] - 1s 20ms/step - loss: 0.0298 - accuracy: 0.9953 - val_loss: 0.3700 - val_accuracy: 0.8559\n",
      "Epoch 7/25\n",
      "43/43 [==============================] - 1s 25ms/step - loss: 0.0143 - accuracy: 0.9990 - val_loss: 0.3903 - val_accuracy: 0.8572\n",
      "Epoch 8/25\n",
      "43/43 [==============================] - 1s 31ms/step - loss: 0.0077 - accuracy: 0.9998 - val_loss: 0.4128 - val_accuracy: 0.8579\n",
      "Epoch 9/25\n",
      "43/43 [==============================] - 0s 12ms/step - loss: 0.0045 - accuracy: 1.0000 - val_loss: 0.4307 - val_accuracy: 0.8566\n",
      "Epoch 10/25\n",
      "43/43 [==============================] - 0s 11ms/step - loss: 0.0029 - accuracy: 1.0000 - val_loss: 0.4459 - val_accuracy: 0.8564\n",
      "Epoch 11/25\n",
      "43/43 [==============================] - 1s 15ms/step - loss: 0.0021 - accuracy: 1.0000 - val_loss: 0.4615 - val_accuracy: 0.8564\n",
      "Epoch 12/25\n",
      "43/43 [==============================] - 1s 14ms/step - loss: 0.0015 - accuracy: 1.0000 - val_loss: 0.4727 - val_accuracy: 0.8564\n",
      "Epoch 13/25\n",
      "43/43 [==============================] - 0s 7ms/step - loss: 0.0012 - accuracy: 1.0000 - val_loss: 0.4827 - val_accuracy: 0.8566\n",
      "Epoch 14/25\n",
      "43/43 [==============================] - 1s 14ms/step - loss: 9.4775e-04 - accuracy: 1.0000 - val_loss: 0.4937 - val_accuracy: 0.8559\n",
      "Epoch 15/25\n",
      "43/43 [==============================] - 1s 19ms/step - loss: 7.7108e-04 - accuracy: 1.0000 - val_loss: 0.5023 - val_accuracy: 0.8557\n",
      "Epoch 16/25\n",
      "43/43 [==============================] - 1s 12ms/step - loss: 6.3853e-04 - accuracy: 1.0000 - val_loss: 0.5112 - val_accuracy: 0.8545\n",
      "Epoch 17/25\n",
      "43/43 [==============================] - 0s 5ms/step - loss: 5.3698e-04 - accuracy: 1.0000 - val_loss: 0.5193 - val_accuracy: 0.8547\n",
      "Epoch 18/25\n",
      "43/43 [==============================] - 1s 13ms/step - loss: 4.5676e-04 - accuracy: 1.0000 - val_loss: 0.5264 - val_accuracy: 0.8551\n",
      "Epoch 19/25\n",
      "43/43 [==============================] - 0s 11ms/step - loss: 3.9268e-04 - accuracy: 1.0000 - val_loss: 0.5337 - val_accuracy: 0.8551\n",
      "Epoch 20/25\n",
      "43/43 [==============================] - 0s 11ms/step - loss: 3.4128e-04 - accuracy: 1.0000 - val_loss: 0.5401 - val_accuracy: 0.8542\n",
      "Epoch 21/25\n",
      "43/43 [==============================] - 0s 10ms/step - loss: 2.9894e-04 - accuracy: 1.0000 - val_loss: 0.5463 - val_accuracy: 0.8536\n",
      "Epoch 22/25\n",
      "43/43 [==============================] - 0s 5ms/step - loss: 2.6359e-04 - accuracy: 1.0000 - val_loss: 0.5521 - val_accuracy: 0.8538\n",
      "Epoch 23/25\n",
      "43/43 [==============================] - 0s 10ms/step - loss: 2.3382e-04 - accuracy: 1.0000 - val_loss: 0.5581 - val_accuracy: 0.8536\n",
      "Epoch 24/25\n",
      "43/43 [==============================] - 0s 9ms/step - loss: 2.0883e-04 - accuracy: 1.0000 - val_loss: 0.5635 - val_accuracy: 0.8534\n",
      "Epoch 25/25\n",
      "43/43 [==============================] - 0s 11ms/step - loss: 1.8725e-04 - accuracy: 1.0000 - val_loss: 0.5693 - val_accuracy: 0.8538\n"
     ]
    },
    {
     "data": {
      "text/plain": "<keras.src.callbacks.History at 0x7fb23734ded0>"
     },
     "execution_count": 10,
     "metadata": {},
     "output_type": "execute_result"
    }
   ],
   "source": [
    "model.fit(\n",
    "    x= sequences_train,\n",
    "    y= Y_train,\n",
    "    batch_size= 500,\n",
    "    epochs=25,\n",
    "    validation_data=(sequences_test, Y_test),\n",
    "    shuffle= True\n",
    ")"
   ],
   "metadata": {
    "collapsed": false,
    "ExecuteTime": {
     "end_time": "2024-03-05T20:18:17.070920Z",
     "start_time": "2024-03-05T20:17:54.693529Z"
    }
   },
   "id": "4a5bbca388a6214d",
   "execution_count": 10
  },
  {
   "cell_type": "code",
   "outputs": [],
   "source": [
    "real_phrases = [\n",
    "    \"sunny is shining today\",\n",
    "    \"so snowy today\",\n",
    "    \"mom is going to shop\",\n",
    "    \"father is going to shop\",\n",
    "    \"Everyone has the right to be stupid. But you are abusing it.\"\n",
    "]\n",
    "real_phrases = tokenizer.texts_to_sequences(real_phrases)\n",
    "real_phrases = pad_sequences(real_phrases, maxlen=max_length, padding='post')"
   ],
   "metadata": {
    "collapsed": false,
    "ExecuteTime": {
     "end_time": "2024-03-05T20:32:08.536591Z",
     "start_time": "2024-03-05T20:32:08.533941Z"
    }
   },
   "id": "f0bb66f6bb9a665b",
   "execution_count": 15
  },
  {
   "cell_type": "code",
   "outputs": [
    {
     "name": "stdout",
     "output_type": "stream",
     "text": [
      "1/1 [==============================] - 0s 13ms/step\n"
     ]
    },
    {
     "data": {
      "text/plain": "array([[0.01039973],\n       [0.46577522],\n       [0.7108093 ],\n       [0.8908721 ],\n       [0.5655917 ]], dtype=float32)"
     },
     "execution_count": 16,
     "metadata": {},
     "output_type": "execute_result"
    }
   ],
   "source": [
    "model.predict(real_phrases)"
   ],
   "metadata": {
    "collapsed": false,
    "ExecuteTime": {
     "end_time": "2024-03-05T20:32:09.203989Z",
     "start_time": "2024-03-05T20:32:09.144176Z"
    }
   },
   "id": "e73e92f6cedb63b4",
   "execution_count": 16
  },
  {
   "cell_type": "code",
   "outputs": [],
   "source": [],
   "metadata": {
    "collapsed": false
   },
   "id": "ad3f33dc1a9c8700"
  }
 ],
 "metadata": {
  "kernelspec": {
   "display_name": "Python 3",
   "language": "python",
   "name": "python3"
  },
  "language_info": {
   "codemirror_mode": {
    "name": "ipython",
    "version": 2
   },
   "file_extension": ".py",
   "mimetype": "text/x-python",
   "name": "python",
   "nbconvert_exporter": "python",
   "pygments_lexer": "ipython2",
   "version": "2.7.6"
  }
 },
 "nbformat": 4,
 "nbformat_minor": 5
}
